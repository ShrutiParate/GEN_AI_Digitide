{
  "nbformat": 4,
  "nbformat_minor": 0,
  "metadata": {
    "colab": {
      "provenance": [],
      "gpuType": "T4",
      "authorship_tag": "ABX9TyNUDzvYNvL4eiGTQeq0yr8e",
      "include_colab_link": true
    },
    "kernelspec": {
      "name": "python3",
      "display_name": "Python 3"
    },
    "language_info": {
      "name": "python"
    },
    "accelerator": "GPU"
  },
  "cells": [
    {
      "cell_type": "markdown",
      "metadata": {
        "id": "view-in-github",
        "colab_type": "text"
      },
      "source": [
        "<a href=\"https://colab.research.google.com/github/ShrutiParate/GEN_AI_Digitide/blob/main/Week1/Day4_Basics_of_RAG/RAG.ipynb\" target=\"_parent\"><img src=\"https://colab.research.google.com/assets/colab-badge.svg\" alt=\"Open In Colab\"/></a>"
      ]
    },
    {
      "cell_type": "code",
      "execution_count": null,
      "metadata": {
        "colab": {
          "base_uri": "https://localhost:8080/"
        },
        "id": "EOb40FJCtYcJ",
        "outputId": "5a7516f8-0696-44d7-8842-2078e40ec1ce"
      },
      "outputs": [
        {
          "output_type": "stream",
          "name": "stdout",
          "text": [
            "\u001b[2K   \u001b[90m━━━━━━━━━━━━━━━━━━━━━━━━━━━━━━━━━━━━━━━━\u001b[0m \u001b[32m31.3/31.3 MB\u001b[0m \u001b[31m27.0 MB/s\u001b[0m eta \u001b[36m0:00:00\u001b[0m\n",
            "\u001b[2K   \u001b[90m━━━━━━━━━━━━━━━━━━━━━━━━━━━━━━━━━━━━━━━━\u001b[0m \u001b[32m232.6/232.6 kB\u001b[0m \u001b[31m20.7 MB/s\u001b[0m eta \u001b[36m0:00:00\u001b[0m\n",
            "\u001b[2K   \u001b[90m━━━━━━━━━━━━━━━━━━━━━━━━━━━━━━━━━━━━━━━━\u001b[0m \u001b[32m363.4/363.4 MB\u001b[0m \u001b[31m5.0 MB/s\u001b[0m eta \u001b[36m0:00:00\u001b[0m\n",
            "\u001b[2K   \u001b[90m━━━━━━━━━━━━━━━━━━━━━━━━━━━━━━━━━━━━━━━━\u001b[0m \u001b[32m13.8/13.8 MB\u001b[0m \u001b[31m78.1 MB/s\u001b[0m eta \u001b[36m0:00:00\u001b[0m\n",
            "\u001b[2K   \u001b[90m━━━━━━━━━━━━━━━━━━━━━━━━━━━━━━━━━━━━━━━━\u001b[0m \u001b[32m24.6/24.6 MB\u001b[0m \u001b[31m64.4 MB/s\u001b[0m eta \u001b[36m0:00:00\u001b[0m\n",
            "\u001b[2K   \u001b[90m━━━━━━━━━━━━━━━━━━━━━━━━━━━━━━━━━━━━━━━━\u001b[0m \u001b[32m883.7/883.7 kB\u001b[0m \u001b[31m44.1 MB/s\u001b[0m eta \u001b[36m0:00:00\u001b[0m\n",
            "\u001b[2K   \u001b[90m━━━━━━━━━━━━━━━━━━━━━━━━━━━━━━━━━━━━━━━━\u001b[0m \u001b[32m664.8/664.8 MB\u001b[0m \u001b[31m2.1 MB/s\u001b[0m eta \u001b[36m0:00:00\u001b[0m\n",
            "\u001b[2K   \u001b[90m━━━━━━━━━━━━━━━━━━━━━━━━━━━━━━━━━━━━━━━━\u001b[0m \u001b[32m211.5/211.5 MB\u001b[0m \u001b[31m5.5 MB/s\u001b[0m eta \u001b[36m0:00:00\u001b[0m\n",
            "\u001b[2K   \u001b[90m━━━━━━━━━━━━━━━━━━━━━━━━━━━━━━━━━━━━━━━━\u001b[0m \u001b[32m56.3/56.3 MB\u001b[0m \u001b[31m13.0 MB/s\u001b[0m eta \u001b[36m0:00:00\u001b[0m\n",
            "\u001b[2K   \u001b[90m━━━━━━━━━━━━━━━━━━━━━━━━━━━━━━━━━━━━━━━━\u001b[0m \u001b[32m127.9/127.9 MB\u001b[0m \u001b[31m7.8 MB/s\u001b[0m eta \u001b[36m0:00:00\u001b[0m\n",
            "\u001b[2K   \u001b[90m━━━━━━━━━━━━━━━━━━━━━━━━━━━━━━━━━━━━━━━━\u001b[0m \u001b[32m207.5/207.5 MB\u001b[0m \u001b[31m5.4 MB/s\u001b[0m eta \u001b[36m0:00:00\u001b[0m\n",
            "\u001b[2K   \u001b[90m━━━━━━━━━━━━━━━━━━━━━━━━━━━━━━━━━━━━━━━━\u001b[0m \u001b[32m188.7/188.7 MB\u001b[0m \u001b[31m5.7 MB/s\u001b[0m eta \u001b[36m0:00:00\u001b[0m\n",
            "\u001b[2K   \u001b[90m━━━━━━━━━━━━━━━━━━━━━━━━━━━━━━━━━━━━━━━━\u001b[0m \u001b[32m21.1/21.1 MB\u001b[0m \u001b[31m103.3 MB/s\u001b[0m eta \u001b[36m0:00:00\u001b[0m\n",
            "\u001b[?25h"
          ]
        }
      ],
      "source": [
        "!pip install -q transformers sentence-transformers faiss-cpu PyPDF2\n"
      ]
    },
    {
      "cell_type": "code",
      "source": [
        "import os, glob, json, zipfile\n",
        "import numpy as np\n",
        "import torch\n",
        "from sentence_transformers import SentenceTransformer\n",
        "import faiss\n",
        "from transformers import AutoTokenizer, AutoModelForSeq2SeqLM\n",
        "from PyPDF2 import PdfReader\n",
        "\n",
        "# Device setup\n",
        "device = \"cuda\" if torch.cuda.is_available() else \"cpu\"\n",
        "print(\"Device:\", device)\n",
        "\n",
        "# Chunking function\n",
        "def chunk_text(text, chunk_size=800, overlap=200):\n",
        "    text = text.strip()\n",
        "    if not text:\n",
        "        return []\n",
        "    chunks = []\n",
        "    start = 0\n",
        "    L = len(text)\n",
        "    while start < L:\n",
        "        end = min(start + chunk_size, L)\n",
        "        chunks.append(text[start:end].strip())\n",
        "        start += chunk_size - overlap\n",
        "    return [c for c in chunks if len(c) > 20]\n",
        "\n",
        "# File reading\n",
        "def read_txt(path):\n",
        "    try:\n",
        "        with open(path, \"r\", encoding=\"utf-8\", errors=\"ignore\") as f:\n",
        "            return f.read()\n",
        "    except:\n",
        "        return \"\"\n",
        "\n",
        "def read_pdf(path):\n",
        "    try:\n",
        "        reader = PdfReader(path)\n",
        "        pages = [p.extract_text() or \"\" for p in reader.pages]\n",
        "        return \"\\n\".join(pages)\n",
        "    except:\n",
        "        return \"\"\n"
      ],
      "metadata": {
        "colab": {
          "base_uri": "https://localhost:8080/"
        },
        "id": "9UcT2aJbt40p",
        "outputId": "aaa09241-7b92-40a0-83cd-08a62151d4bf"
      },
      "execution_count": null,
      "outputs": [
        {
          "output_type": "stream",
          "name": "stdout",
          "text": [
            "Device: cuda\n"
          ]
        }
      ]
    },
    {
      "cell_type": "code",
      "source": [
        "from google.colab import files\n",
        "import zipfile\n",
        "import os\n",
        "\n",
        "print(\"Please upload your ZIP file containing documents (.txt, .md, .pdf)\")\n",
        "uploaded = files.upload()\n",
        "\n",
        "# Get uploaded file name\n",
        "uploaded_zip = list(uploaded.keys())[0]  # First uploaded file\n",
        "target_dir = \"/content/my_docs\"\n",
        "os.makedirs(target_dir, exist_ok=True)\n",
        "\n",
        "# Extract ZIP\n",
        "with zipfile.ZipFile(uploaded_zip, 'r') as zip_ref:\n",
        "    zip_ref.extractall(target_dir)\n",
        "\n",
        "print(f\"Files extracted to: {target_dir}\")\n",
        "!ls -R {target_dir}\n"
      ],
      "metadata": {
        "colab": {
          "base_uri": "https://localhost:8080/",
          "height": 246
        },
        "id": "shZ2V18WukUc",
        "outputId": "270fa6f8-e539-475d-f728-336a3cfd7657"
      },
      "execution_count": null,
      "outputs": [
        {
          "output_type": "stream",
          "name": "stdout",
          "text": [
            "Please upload your ZIP file containing documents (.txt, .md, .pdf)\n"
          ]
        },
        {
          "output_type": "display_data",
          "data": {
            "text/plain": [
              "<IPython.core.display.HTML object>"
            ],
            "text/html": [
              "\n",
              "     <input type=\"file\" id=\"files-c1fbb8b0-7d76-41c5-82e6-7fd705504fba\" name=\"files[]\" multiple disabled\n",
              "        style=\"border:none\" />\n",
              "     <output id=\"result-c1fbb8b0-7d76-41c5-82e6-7fd705504fba\">\n",
              "      Upload widget is only available when the cell has been executed in the\n",
              "      current browser session. Please rerun this cell to enable.\n",
              "      </output>\n",
              "      <script>// Copyright 2017 Google LLC\n",
              "//\n",
              "// Licensed under the Apache License, Version 2.0 (the \"License\");\n",
              "// you may not use this file except in compliance with the License.\n",
              "// You may obtain a copy of the License at\n",
              "//\n",
              "//      http://www.apache.org/licenses/LICENSE-2.0\n",
              "//\n",
              "// Unless required by applicable law or agreed to in writing, software\n",
              "// distributed under the License is distributed on an \"AS IS\" BASIS,\n",
              "// WITHOUT WARRANTIES OR CONDITIONS OF ANY KIND, either express or implied.\n",
              "// See the License for the specific language governing permissions and\n",
              "// limitations under the License.\n",
              "\n",
              "/**\n",
              " * @fileoverview Helpers for google.colab Python module.\n",
              " */\n",
              "(function(scope) {\n",
              "function span(text, styleAttributes = {}) {\n",
              "  const element = document.createElement('span');\n",
              "  element.textContent = text;\n",
              "  for (const key of Object.keys(styleAttributes)) {\n",
              "    element.style[key] = styleAttributes[key];\n",
              "  }\n",
              "  return element;\n",
              "}\n",
              "\n",
              "// Max number of bytes which will be uploaded at a time.\n",
              "const MAX_PAYLOAD_SIZE = 100 * 1024;\n",
              "\n",
              "function _uploadFiles(inputId, outputId) {\n",
              "  const steps = uploadFilesStep(inputId, outputId);\n",
              "  const outputElement = document.getElementById(outputId);\n",
              "  // Cache steps on the outputElement to make it available for the next call\n",
              "  // to uploadFilesContinue from Python.\n",
              "  outputElement.steps = steps;\n",
              "\n",
              "  return _uploadFilesContinue(outputId);\n",
              "}\n",
              "\n",
              "// This is roughly an async generator (not supported in the browser yet),\n",
              "// where there are multiple asynchronous steps and the Python side is going\n",
              "// to poll for completion of each step.\n",
              "// This uses a Promise to block the python side on completion of each step,\n",
              "// then passes the result of the previous step as the input to the next step.\n",
              "function _uploadFilesContinue(outputId) {\n",
              "  const outputElement = document.getElementById(outputId);\n",
              "  const steps = outputElement.steps;\n",
              "\n",
              "  const next = steps.next(outputElement.lastPromiseValue);\n",
              "  return Promise.resolve(next.value.promise).then((value) => {\n",
              "    // Cache the last promise value to make it available to the next\n",
              "    // step of the generator.\n",
              "    outputElement.lastPromiseValue = value;\n",
              "    return next.value.response;\n",
              "  });\n",
              "}\n",
              "\n",
              "/**\n",
              " * Generator function which is called between each async step of the upload\n",
              " * process.\n",
              " * @param {string} inputId Element ID of the input file picker element.\n",
              " * @param {string} outputId Element ID of the output display.\n",
              " * @return {!Iterable<!Object>} Iterable of next steps.\n",
              " */\n",
              "function* uploadFilesStep(inputId, outputId) {\n",
              "  const inputElement = document.getElementById(inputId);\n",
              "  inputElement.disabled = false;\n",
              "\n",
              "  const outputElement = document.getElementById(outputId);\n",
              "  outputElement.innerHTML = '';\n",
              "\n",
              "  const pickedPromise = new Promise((resolve) => {\n",
              "    inputElement.addEventListener('change', (e) => {\n",
              "      resolve(e.target.files);\n",
              "    });\n",
              "  });\n",
              "\n",
              "  const cancel = document.createElement('button');\n",
              "  inputElement.parentElement.appendChild(cancel);\n",
              "  cancel.textContent = 'Cancel upload';\n",
              "  const cancelPromise = new Promise((resolve) => {\n",
              "    cancel.onclick = () => {\n",
              "      resolve(null);\n",
              "    };\n",
              "  });\n",
              "\n",
              "  // Wait for the user to pick the files.\n",
              "  const files = yield {\n",
              "    promise: Promise.race([pickedPromise, cancelPromise]),\n",
              "    response: {\n",
              "      action: 'starting',\n",
              "    }\n",
              "  };\n",
              "\n",
              "  cancel.remove();\n",
              "\n",
              "  // Disable the input element since further picks are not allowed.\n",
              "  inputElement.disabled = true;\n",
              "\n",
              "  if (!files) {\n",
              "    return {\n",
              "      response: {\n",
              "        action: 'complete',\n",
              "      }\n",
              "    };\n",
              "  }\n",
              "\n",
              "  for (const file of files) {\n",
              "    const li = document.createElement('li');\n",
              "    li.append(span(file.name, {fontWeight: 'bold'}));\n",
              "    li.append(span(\n",
              "        `(${file.type || 'n/a'}) - ${file.size} bytes, ` +\n",
              "        `last modified: ${\n",
              "            file.lastModifiedDate ? file.lastModifiedDate.toLocaleDateString() :\n",
              "                                    'n/a'} - `));\n",
              "    const percent = span('0% done');\n",
              "    li.appendChild(percent);\n",
              "\n",
              "    outputElement.appendChild(li);\n",
              "\n",
              "    const fileDataPromise = new Promise((resolve) => {\n",
              "      const reader = new FileReader();\n",
              "      reader.onload = (e) => {\n",
              "        resolve(e.target.result);\n",
              "      };\n",
              "      reader.readAsArrayBuffer(file);\n",
              "    });\n",
              "    // Wait for the data to be ready.\n",
              "    let fileData = yield {\n",
              "      promise: fileDataPromise,\n",
              "      response: {\n",
              "        action: 'continue',\n",
              "      }\n",
              "    };\n",
              "\n",
              "    // Use a chunked sending to avoid message size limits. See b/62115660.\n",
              "    let position = 0;\n",
              "    do {\n",
              "      const length = Math.min(fileData.byteLength - position, MAX_PAYLOAD_SIZE);\n",
              "      const chunk = new Uint8Array(fileData, position, length);\n",
              "      position += length;\n",
              "\n",
              "      const base64 = btoa(String.fromCharCode.apply(null, chunk));\n",
              "      yield {\n",
              "        response: {\n",
              "          action: 'append',\n",
              "          file: file.name,\n",
              "          data: base64,\n",
              "        },\n",
              "      };\n",
              "\n",
              "      let percentDone = fileData.byteLength === 0 ?\n",
              "          100 :\n",
              "          Math.round((position / fileData.byteLength) * 100);\n",
              "      percent.textContent = `${percentDone}% done`;\n",
              "\n",
              "    } while (position < fileData.byteLength);\n",
              "  }\n",
              "\n",
              "  // All done.\n",
              "  yield {\n",
              "    response: {\n",
              "      action: 'complete',\n",
              "    }\n",
              "  };\n",
              "}\n",
              "\n",
              "scope.google = scope.google || {};\n",
              "scope.google.colab = scope.google.colab || {};\n",
              "scope.google.colab._files = {\n",
              "  _uploadFiles,\n",
              "  _uploadFilesContinue,\n",
              "};\n",
              "})(self);\n",
              "</script> "
            ]
          },
          "metadata": {}
        },
        {
          "output_type": "stream",
          "name": "stdout",
          "text": [
            "Saving data.zip to data (1).zip\n",
            "Files extracted to: /content/my_docs\n",
            "/content/my_docs:\n",
            "data  myfolder\n",
            "\n",
            "/content/my_docs/data:\n",
            "'cloud computing training.pdf'\t Python_refrence.pdf\n",
            "\n",
            "/content/my_docs/myfolder:\n",
            "'cloud computing training.pdf'\t Python_refrence.pdf  'refund policy.pdf'\n"
          ]
        }
      ]
    },
    {
      "cell_type": "code",
      "source": [
        "# This assumes you've already uploaded data.zip to /content/\n",
        "uploaded_zip = \"/content/data.zip\"\n",
        "target_dir = \"/content/my_docs\"\n",
        "os.makedirs(target_dir, exist_ok=True)\n",
        "\n",
        "with zipfile.ZipFile(uploaded_zip, 'r') as zip_ref:\n",
        "    zip_ref.extractall(target_dir)\n",
        "\n",
        "print(f\"Files extracted to: {target_dir}\")\n",
        "!ls -R {target_dir}\n"
      ],
      "metadata": {
        "colab": {
          "base_uri": "https://localhost:8080/"
        },
        "id": "WrJtQh7EuuM9",
        "outputId": "63d977cd-621a-4b8c-85da-76abfee7e30b"
      },
      "execution_count": null,
      "outputs": [
        {
          "output_type": "stream",
          "name": "stdout",
          "text": [
            "Files extracted to: /content/my_docs\n",
            "/content/my_docs:\n",
            "data  myfolder\n",
            "\n",
            "/content/my_docs/data:\n",
            "'cloud computing training.pdf'\t Python_refrence.pdf\n",
            "\n",
            "/content/my_docs/myfolder:\n",
            "'cloud computing training.pdf'\t Python_refrence.pdf  'refund policy.pdf'\n"
          ]
        }
      ]
    },
    {
      "cell_type": "code",
      "source": [
        "DOCS_PATH = target_dir\n",
        "docs = []\n",
        "\n",
        "for ext in (\"*.txt\", \"*.md\", \"*.pdf\"):\n",
        "    for path in glob.glob(os.path.join(DOCS_PATH, \"**\", ext), recursive=True):\n",
        "        text = read_txt(path) if path.lower().endswith((\".txt\", \".md\")) else read_pdf(path)\n",
        "        if text and len(text.strip()) > 50:\n",
        "            docs.append({\"title\": os.path.basename(path), \"text\": text})\n",
        "\n",
        "print(f\"Loaded {len(docs)} documents from {DOCS_PATH}\")\n",
        "for d in docs[:5]:\n",
        "    print(\"-\", d[\"title\"], \"(\", len(d[\"text\"]), \"chars )\")\n"
      ],
      "metadata": {
        "colab": {
          "base_uri": "https://localhost:8080/"
        },
        "id": "ucrtYBlXu_ch",
        "outputId": "b2d5365c-3b12-4cb0-8ed5-94f1e596e26b"
      },
      "execution_count": null,
      "outputs": [
        {
          "output_type": "stream",
          "name": "stdout",
          "text": [
            "Loaded 5 documents from /content/my_docs\n",
            "- refund policy.pdf ( 1712 chars )\n",
            "- Python_refrence.pdf ( 54168 chars )\n",
            "- cloud computing training.pdf ( 25572 chars )\n",
            "- Python_refrence.pdf ( 54168 chars )\n",
            "- cloud computing training.pdf ( 25572 chars )\n"
          ]
        }
      ]
    },
    {
      "cell_type": "code",
      "source": [
        "metas = []\n",
        "texts = []\n",
        "for doc in docs:\n",
        "    chunks = chunk_text(doc[\"text\"], chunk_size=800, overlap=200)\n",
        "    for i, c in enumerate(chunks):\n",
        "        metas.append({\"title\": doc[\"title\"], \"chunk_id\": i, \"text\": c})\n",
        "        texts.append(c)\n",
        "\n",
        "print(\"Total chunks:\", len(texts))\n",
        "if len(texts) == 0:\n",
        "    print(\"No chunks found — check DOCS_PATH, file formats, or chunker settings.\")\n"
      ],
      "metadata": {
        "colab": {
          "base_uri": "https://localhost:8080/"
        },
        "id": "4ewVNq7FvC_G",
        "outputId": "159d2a28-4fca-4855-972a-7ebb15c8284e"
      },
      "execution_count": null,
      "outputs": [
        {
          "output_type": "stream",
          "name": "stdout",
          "text": [
            "Total chunks: 271\n"
          ]
        }
      ]
    },
    {
      "cell_type": "code",
      "source": [
        "print(\"Loading embedding model...\")\n",
        "embed_model = SentenceTransformer(\"all-MiniLM-L6-v2\")\n",
        "\n",
        "batch_size = 32\n",
        "embs = []\n",
        "for i in range(0, len(texts), batch_size):\n",
        "    batch = texts[i:i+batch_size]\n",
        "    emb = embed_model.encode(batch, convert_to_numpy=True, show_progress_bar=False)\n",
        "    embs.append(emb)\n",
        "embs = np.vstack(embs).astype(\"float32\")\n",
        "dim = embs.shape[1]\n",
        "print(\"Embeddings shape:\", embs.shape)\n",
        "\n",
        "index = faiss.IndexFlatL2(dim)\n",
        "index.add(embs)\n",
        "print(\"FAISS index vectors:\", index.ntotal)\n"
      ],
      "metadata": {
        "colab": {
          "base_uri": "https://localhost:8080/"
        },
        "id": "Ud3DTgB9vLz6",
        "outputId": "c26c59a2-f5f8-4fac-8f35-e991b716028f"
      },
      "execution_count": null,
      "outputs": [
        {
          "output_type": "stream",
          "name": "stdout",
          "text": [
            "Loading embedding model...\n",
            "Embeddings shape: (271, 384)\n",
            "FAISS index vectors: 271\n"
          ]
        }
      ]
    },
    {
      "cell_type": "code",
      "source": [
        "def retrieve(query, top_k=3):\n",
        "    q_emb = embed_model.encode([query], convert_to_numpy=True)\n",
        "    D, I = index.search(q_emb, top_k)\n",
        "    results = []\n",
        "    for idx in I[0]:\n",
        "        if idx < len(metas):\n",
        "            results.append(metas[idx])\n",
        "    return results\n"
      ],
      "metadata": {
        "id": "czDFtaCVvRw0"
      },
      "execution_count": null,
      "outputs": []
    },
    {
      "cell_type": "code",
      "source": [
        "def build_prompt(query, contexts, tokenizer, reserved_output_tokens=128):\n",
        "    header = (\n",
        "        \"Answer the question based on the following context. \"\n",
        "        \"If the answer is not directly in the context, you may still try to answer from your knowledge.\\n\\n\"\n",
        "    )\n",
        "    ctx_text = \"\\n\\n\".join([f\"[{i+1}] {c['text']}\" for i, c in enumerate(contexts)])\n",
        "    prompt = header + ctx_text + \"\\n\\nQuestion: \" + query\n",
        "    max_len = tokenizer.model_max_length or 512\n",
        "    tokens = tokenizer.encode(prompt, truncation=False)\n",
        "    if len(tokens) > max_len - reserved_output_tokens:\n",
        "        prompt = tokenizer.decode(tokens[: max_len - reserved_output_tokens])\n",
        "    return prompt\n"
      ],
      "metadata": {
        "id": "FqhSKCfJvYVY"
      },
      "execution_count": null,
      "outputs": []
    },
    {
      "cell_type": "code",
      "source": [
        "model_name = \"google/flan-t5-base\"\n",
        "tokenizer = AutoTokenizer.from_pretrained(model_name)\n",
        "model = AutoModelForSeq2SeqLM.from_pretrained(model_name).to(device)\n"
      ],
      "metadata": {
        "id": "Ey5AsCgfvbjn"
      },
      "execution_count": null,
      "outputs": []
    },
    {
      "cell_type": "code",
      "source": [
        "def answer(query, top_k=3, max_new_tokens=128):\n",
        "    contexts = retrieve(query, top_k=top_k)\n",
        "    prompt = build_prompt(query, contexts, tokenizer)\n",
        "    inputs = tokenizer(prompt, return_tensors=\"pt\", truncation=True, max_length=tokenizer.model_max_length).to(device)\n",
        "    with torch.no_grad():\n",
        "        out = model.generate(**inputs, max_new_tokens=max_new_tokens, do_sample=False)\n",
        "    text = tokenizer.decode(out[0], skip_special_tokens=True)\n",
        "    return text, contexts\n"
      ],
      "metadata": {
        "id": "CJ-VeTkivi8X"
      },
      "execution_count": null,
      "outputs": []
    },
    {
      "cell_type": "code",
      "source": [
        "def answer(query, top_k=3, max_new_tokens=128):\n",
        "    contexts = retrieve(query, top_k=top_k)\n",
        "    prompt = build_prompt(query, contexts, tokenizer)\n",
        "\n",
        "    # Limit token length\n",
        "    inputs = tokenizer(\n",
        "        prompt,\n",
        "        return_tensors=\"pt\",\n",
        "        truncation=True,\n",
        "        max_length=512\n",
        "    ).to(device)\n",
        "\n",
        "    with torch.no_grad():\n",
        "        out = model.generate(**inputs, max_new_tokens=max_new_tokens, do_sample=False)\n",
        "\n",
        "    text = tokenizer.decode(out[0], skip_special_tokens=True)\n",
        "    text = \" \".join(text.split())  # remove newlines and extra spaces\n",
        "    return text, contexts\n",
        "\n",
        "# Test\n",
        "query = \"what is the refund policy?\"\n",
        "ans, ctxs = answer(query, top_k=5)\n",
        "print(\"Q:\", query)\n",
        "print(\"A:\", ans)\n",
        "print(\"\\n--- Contexts ---\")\n",
        "for i, c in enumerate(ctxs):\n",
        "    clean_text = \" \".join(c['text'].split())  # flatten vertical text\n",
        "    print(f\"[{i+1}] {clean_text[:200]}...\")\n"
      ],
      "metadata": {
        "colab": {
          "base_uri": "https://localhost:8080/"
        },
        "id": "G62F4WjrxHqv",
        "outputId": "6433e2a3-fcdb-4b4f-a08a-1fbfa84e09d2"
      },
      "execution_count": null,
      "outputs": [
        {
          "output_type": "stream",
          "name": "stdout",
          "text": [
            "Q: what is the refund policy?\n",
            "A: tax refund or additional burden\n",
            "\n",
            "--- Contexts ---\n",
            "[1] no separate refund mechanism disclosed for this demerger. The process is standard: eligible shareholders receive their respective shares. It is tax-neutral, so there’s no tax refund or additional burd...\n",
            "[2] ived 1 share each of Digitide and Bluspring for every Quess share held. Listing & Market Debut Digitide opened around ■245, with strong early gains. Bluspring debuted around ■89 but saw early declines...\n",
            "[3] for verifying access to S3 buckets from outside your AWS account. An ACL is specific to each bucket. You can utilize S3 Object Ownership, an Amazon S3 bucket -level feature, to manage who owns the obj...\n",
            "[4] for verifying access to S3 buckets from outside your AWS account. An ACL is specific to each bucket. You can utilize S3 Object Ownership, an Amazon S3 bucket -level feature, to manage who owns the obj...\n",
            "[5] his is a cheaper data -storage class and as the name suggests, this class is best suited for storing infrequently accessed data like log files or data archives. Note that there may be a per GB data re...\n"
          ]
        }
      ]
    }
  ]
}